{
 "cells": [
  {
   "cell_type": "markdown",
   "id": "68bfab26-ce60-45d4-8e6c-3746755d5c99",
   "metadata": {},
   "source": [
    "# Regular Expressions\n",
    "\n",
    "Regular Expressions are sort of like a mini language in and of themselves. Regular Expressions are a sequence of characters used to match patterns in text. Regular Expressions are language agnostic and can be used in most (all?) programming languages including Python, R, Javascript, Java, etc. Regular Expressions can look very complicated and that is because they are so versatile. You can match basically any pattern of text. "
   ]
  },
  {
   "cell_type": "markdown",
   "id": "eafcb69e-4177-4704-af4d-3dcc247802ad",
   "metadata": {},
   "source": [
    "## re Module\n",
    "Today we will be using python's re module to find patterns in text. This module comes with base python, meaning it is part of the normal installation of python. When you install python, you have access to re."
   ]
  },
  {
   "cell_type": "markdown",
   "id": "7f9cb178-621e-4f69-96b2-96508a6d74b0",
   "metadata": {},
   "source": [
    "<b>Step 1</b>"
   ]
  },
  {
   "cell_type": "code",
   "execution_count": 2,
   "id": "72a12a04-20f8-4143-b94c-39c28a0dca53",
   "metadata": {},
   "outputs": [],
   "source": [
    "# even though re is a part of base python, you still need to import it\n",
    "import re"
   ]
  },
  {
   "cell_type": "code",
   "execution_count": null,
   "id": "8b6ca8d1-509e-4013-a76f-689ed883937c",
   "metadata": {},
   "outputs": [],
   "source": [
    "text_to_search = '''\n",
    "abcdefghijklmnopqurtuvwxyz\n",
    "ABCDEFGHIJKLMNOPQRSTUVWXYZ\n",
    "1234567890\n",
    "\n",
    "Ha HaHa\n",
    "\n",
    "MetaCharacters (Need to be escaped):\n",
    ". ^ $ * + ? { } [ ] \\ | ( )\n",
    "\n",
    "coreyms.com\n",
    "\n",
    "321-555-4321\n",
    "123.555.1234\n",
    "123*555*1234\n",
    "800-555-1234\n",
    "900-555-1234\n",
    "\n",
    "Mr. Schafer\n",
    "Mr Smith\n",
    "Ms Davis\n",
    "Mrs. Robinson\n",
    "Mr. T\n",
    "'''\n",
    "\n",
    "sentence = 'Start a sentence and then bring it to an end'"
   ]
  },
  {
   "cell_type": "markdown",
   "id": "4175068d-b667-4c38-baed-87738b75754a",
   "metadata": {},
   "source": [
    "<b>Step 2</b>"
   ]
  },
  {
   "cell_type": "markdown",
   "id": "9e703d6b-4428-479d-9c36-b496f0a5c9cb",
   "metadata": {},
   "source": [
    "### Raw Strings (python)\n",
    "In python, when you prefix a string with the letter 'r', it becomes a raw string. Unlike a regular string, a raw string treats a backslash (\\) as a literal character"
   ]
  },
  {
   "cell_type": "code",
   "execution_count": null,
   "id": "8eb12079-a3c5-420a-b47c-4e8bb7e0f61f",
   "metadata": {},
   "outputs": [],
   "source": [
    "print('\\tTab')"
   ]
  },
  {
   "cell_type": "code",
   "execution_count": null,
   "id": "9cbd5e85-5892-4735-9995-8643bab3845f",
   "metadata": {},
   "outputs": [],
   "source": [
    "#raw string\n",
    "print(r'\\tTab')"
   ]
  },
  {
   "cell_type": "markdown",
   "id": "66ebb10f-6158-4b36-890e-a031e47ecc3f",
   "metadata": {},
   "source": [
    "### Let's start writing regular expressions\n",
    "\n",
    "We will start with some patterns that match literal characters"
   ]
  },
  {
   "cell_type": "markdown",
   "id": "586d2c9d-51c9-43a4-8d49-8c4fddfefa9a",
   "metadata": {},
   "source": [
    "<b>Step 3</b>"
   ]
  },
  {
   "cell_type": "code",
   "execution_count": null,
   "id": "3ebd12ab-934a-4cc2-af3b-b5a64f22d369",
   "metadata": {},
   "outputs": [],
   "source": [
    "pattern = re.compile(r'abc')\n",
    "\n",
    "#we are searching our 'text_to_search' variable for literally the string 'abc'\n",
    "matches = pattern.finditer(text_to_search)\n",
    "\n",
    "for match in matches:\n",
    "    print(match)"
   ]
  },
  {
   "cell_type": "markdown",
   "id": "752023f2-b425-4e68-8651-5b610b6c43cd",
   "metadata": {},
   "source": [
    "The .finditer method returns an iterator object (special data type) with some information associated with it. \n",
    "\n",
    "<b>span:</b> This returns the beginning and end index of the match. This is useful because it also allows us to use string indexing to access our match."
   ]
  },
  {
   "cell_type": "code",
   "execution_count": null,
   "id": "74f2d262-2c5a-4bba-bddd-8363f8502418",
   "metadata": {},
   "outputs": [],
   "source": [
    "#the same result using string indexing\n",
    "print(text_to_search[1:4])"
   ]
  },
  {
   "cell_type": "markdown",
   "id": "bd5519ba-4e25-488a-9ae6-b8d16901653d",
   "metadata": {},
   "source": [
    "Notice that our match found one match of 'abc'.  It did not match 'ABC', 'bca', or any other mix of those characters. This regular expression is looking for LITERALLY the string 'abc' (lower case). "
   ]
  },
  {
   "cell_type": "markdown",
   "id": "024a0583-cf90-4f98-847d-ef1f3ea0ec0d",
   "metadata": {},
   "source": [
    "## Meta Characters\n",
    "Meta characters in regular expressions are characters that, if not interpreted literally, find other characters or patterns.\n",
    "\n",
    "These include ., /, ?, $, etc... \n",
    "\n",
    "Let's start with a period (.)."
   ]
  },
  {
   "cell_type": "markdown",
   "id": "4b0433e2-112b-4cab-9b7c-cf14135c4548",
   "metadata": {},
   "source": [
    "<b>Step 4</b>"
   ]
  },
  {
   "cell_type": "code",
   "execution_count": null,
   "id": "ff0f8d7d-b3a9-4126-8468-a366b706d98b",
   "metadata": {},
   "outputs": [],
   "source": [
    "# What will happen in this regular expression?\n",
    "pattern = re.compile(r'.')\n",
    "\n",
    "matches = pattern.finditer(text_to_search)\n",
    "\n",
    "for match in matches:\n",
    "    print(match)"
   ]
  },
  {
   "cell_type": "markdown",
   "id": "f725cd21-a524-4107-8fa9-212fb5b579e5",
   "metadata": {},
   "source": [
    "## Escape Character\n",
    "We need to use the escape character (\\\\, backslash) to literally interpret a period"
   ]
  },
  {
   "cell_type": "markdown",
   "id": "8d78a0d3-777a-4021-ad7b-b913e7aa188c",
   "metadata": {},
   "source": [
    "<b>Step 5</b>"
   ]
  },
  {
   "cell_type": "code",
   "execution_count": null,
   "id": "12905d36-6f98-449a-a070-8e2086e852c4",
   "metadata": {},
   "outputs": [],
   "source": [
    "pattern = re.compile(r'\\.')\n",
    "\n",
    "matches = pattern.finditer(text_to_search)\n",
    "\n",
    "for match in matches:\n",
    "    print(match)"
   ]
  },
  {
   "cell_type": "markdown",
   "id": "75c5639c-7833-4253-996b-5091d7ee953b",
   "metadata": {},
   "source": [
    "A practical example of this escape character is a URL."
   ]
  },
  {
   "cell_type": "code",
   "execution_count": null,
   "id": "bfb477f3-96f5-4415-872f-33b066e9ee9b",
   "metadata": {},
   "outputs": [],
   "source": [
    "pattern = re.compile(r'coreyms\\.com')\n",
    "\n",
    "matches = pattern.finditer(text_to_search)\n",
    "\n",
    "for match in matches:\n",
    "    print(match)"
   ]
  },
  {
   "cell_type": "markdown",
   "id": "a8f5eb8d-0502-4167-803b-08520e504b08",
   "metadata": {},
   "source": [
    "Literal searching aren't too exciting because we are used to doing this. Now we can start using <b>Meta Characters</b> the way they are intended to be used. \n"
   ]
  },
  {
   "cell_type": "markdown",
   "id": "a96eb3c2-0d2f-461c-8f58-2adbf64bd667",
   "metadata": {},
   "source": [
    "<b>Step 6</b>"
   ]
  },
  {
   "cell_type": "code",
   "execution_count": null,
   "id": "8dd0c2f8-1256-4e74-b775-c1bf2b129405",
   "metadata": {},
   "outputs": [],
   "source": [
    "# \\d matches any digit 0-9\n",
    "pattern = re.compile(r'\\d')\n",
    "\n",
    "matches = pattern.finditer(text_to_search)\n",
    "\n",
    "for match in matches:\n",
    "    print(match)"
   ]
  },
  {
   "cell_type": "code",
   "execution_count": null,
   "id": "95be2e30-b55f-405f-8235-8bfc2681eeef",
   "metadata": {},
   "outputs": [],
   "source": [
    "# \\w matches any word character (a-z, A-Z, 0-9, _)\n",
    "pattern = re.compile(r'\\w')\n",
    "\n",
    "matches = pattern.finditer(text_to_search)\n",
    "\n",
    "for match in matches:\n",
    "    print(match)"
   ]
  },
  {
   "cell_type": "code",
   "execution_count": null,
   "id": "5df79765-c74d-4d08-ae33-1859f9debd82",
   "metadata": {},
   "outputs": [],
   "source": [
    "# \\s matches white space (space, tab, newline)\n",
    "pattern = re.compile(r'\\s')\n",
    "\n",
    "matches = pattern.finditer(text_to_search)\n",
    "\n",
    "for match in matches:\n",
    "    print(match)"
   ]
  },
  {
   "cell_type": "markdown",
   "id": "65a550f9-d333-4c75-b5eb-e349c5ac41ac",
   "metadata": {},
   "source": [
    "## Anchors\n",
    "Anchors do not match characters specifically, but match invisible positions before or after characters. These are typically used in conjunction with other patterns. \n",
    "\n",
    "Anchor characters include \\b, \\B, ^, $"
   ]
  },
  {
   "cell_type": "markdown",
   "id": "a3598f25-49a9-4865-8670-c306187264f6",
   "metadata": {},
   "source": [
    "<b>Step 7</b>"
   ]
  },
  {
   "cell_type": "code",
   "execution_count": null,
   "id": "7687193f-59ab-47c3-8c0d-d8c9fa480fc4",
   "metadata": {},
   "outputs": [],
   "source": [
    "# \\b matches a word boundary such as the beginning of a line or a space\n",
    "pattern = re.compile(r'\\bHa')\n",
    "\n",
    "matches = pattern.finditer(text_to_search)\n",
    "\n",
    "for match in matches:\n",
    "    print(match)"
   ]
  },
  {
   "cell_type": "code",
   "execution_count": null,
   "id": "6c05d8a8-27ad-43d2-aa33-f45f0540d7af",
   "metadata": {},
   "outputs": [],
   "source": [
    "# \\B matches NOT a word boundary. This is the opposite of the above example\n",
    "pattern = re.compile(r'\\BHa')\n",
    "\n",
    "matches = pattern.finditer(text_to_search)\n",
    "\n",
    "for match in matches:\n",
    "    print(match)"
   ]
  },
  {
   "cell_type": "markdown",
   "id": "ee492dc3-8a0e-420b-b805-d36106775a3a",
   "metadata": {},
   "source": [
    "<b>Step 8</b>"
   ]
  },
  {
   "cell_type": "code",
   "execution_count": null,
   "id": "78a40262-ad9c-4166-bd16-9e2bcbda330c",
   "metadata": {},
   "outputs": [],
   "source": [
    "sentence = 'Start a sentence and then bring it to an end'\n",
    "\n",
    "# ^ matches something at the beginning of a string.\n",
    "pattern = re.compile(r'^Start')\n",
    "\n",
    "matches = pattern.finditer(sentence)\n",
    "\n",
    "for match in matches:\n",
    "    print(match)"
   ]
  },
  {
   "cell_type": "code",
   "execution_count": null,
   "id": "93e53f88-8826-40d8-8a20-12e3c7b01fdd",
   "metadata": {},
   "outputs": [],
   "source": [
    "# This matches something at the end of a string.\n",
    "pattern = re.compile(r'end$')\n",
    "\n",
    "matches = pattern.finditer(sentence)\n",
    "\n",
    "for match in matches:\n",
    "    print(match)"
   ]
  },
  {
   "cell_type": "markdown",
   "id": "4314eb3a-cafd-4766-aa7e-faa6d8bdee0e",
   "metadata": {},
   "source": [
    "## Practical Examples\n",
    "\n",
    "Up to this point, our examples are not \"real\". Let's do some more practical exercises. "
   ]
  },
  {
   "cell_type": "markdown",
   "id": "8e1956b0-5949-4ed8-8c86-be6e4f190e81",
   "metadata": {},
   "source": [
    "### Matching Phone Numbers"
   ]
  },
  {
   "cell_type": "markdown",
   "id": "ec057d3c-83b0-4be5-82ab-6e4ec293aa63",
   "metadata": {},
   "source": [
    "<b>Step 9</b>"
   ]
  },
  {
   "cell_type": "code",
   "execution_count": null,
   "id": "e2a3a54f-0436-4e43-b77b-8b1f43570b44",
   "metadata": {},
   "outputs": [],
   "source": [
    "# look for any three digits in a row\n",
    "pattern = re.compile(r'\\d\\d\\d')\n",
    "\n",
    "matches = pattern.finditer(text_to_search)\n",
    "\n",
    "for match in matches:\n",
    "    print(match)"
   ]
  },
  {
   "cell_type": "code",
   "execution_count": null,
   "id": "ce0bea0e-9f4d-402c-8463-f5e522dc0426",
   "metadata": {},
   "outputs": [],
   "source": [
    "#matches any 3 digits, followed by any character, another 3 digits, any character, followed by 4 digits\n",
    "pattern = re.compile(r'\\d\\d\\d.\\d\\d\\d.\\d\\d\\d\\d')\n",
    "\n",
    "matches = pattern.finditer(text_to_search)\n",
    "\n",
    "for match in matches:\n",
    "    print(match)"
   ]
  },
  {
   "cell_type": "markdown",
   "id": "566be0fd-577b-47a9-987b-b03c77c666ed",
   "metadata": {},
   "source": [
    "Now we will use our data.txt file which contains a bunch of fake names, addresses, phone numbers, and email addresses. Let's read that file into python and parse out some information from it."
   ]
  },
  {
   "cell_type": "markdown",
   "id": "c6175dcc-51b5-476b-98f9-4a9741c5a9d9",
   "metadata": {},
   "source": [
    "<b>Step 10</b>"
   ]
  },
  {
   "cell_type": "code",
   "execution_count": null,
   "id": "f6da79fd-272d-449a-b6de-2e539160ca16",
   "metadata": {},
   "outputs": [],
   "source": [
    "pattern = re.compile(r'\\d\\d\\d.\\d\\d\\d.\\d\\d\\d\\d')\n",
    "\n",
    "#open this file as a file object\n",
    "#if you are unfamiliar with this, don't think too hard. Just remember, we are opening the file. \n",
    "with open('data.txt', 'r') as f:\n",
    "          contents = f.read()\n",
    "          \n",
    "          matches = pattern.finditer(contents)\n",
    "              \n",
    "          for match in matches:\n",
    "              print(match)"
   ]
  },
  {
   "cell_type": "markdown",
   "id": "cbe9163b-ef52-4f57-9103-d1816c8c0cbc",
   "metadata": {},
   "source": [
    "### Character Sets\n",
    "\n",
    "Instead of matching any phone number, let's be more specific. We will now match any only any phone number that uses dashes or dots. \n",
    "\n",
    "<b>Character Sets</b> use [ ] characters to define specific characters. Even though a character set can have multiple characters in it, it is still only matching one character in the text"
   ]
  },
  {
   "cell_type": "markdown",
   "id": "e7244bc5-b896-4d7f-96be-1a8431a3849e",
   "metadata": {},
   "source": [
    "<b>Step 11</b>"
   ]
  },
  {
   "cell_type": "code",
   "execution_count": null,
   "id": "beb9bc03-c3dd-4f31-b107-7769b06a34a0",
   "metadata": {},
   "outputs": [],
   "source": [
    "# look for any phone number using just a - or . to separate numbers\n",
    "pattern = re.compile(r'\\d\\d\\d[-.]\\d\\d\\d[-.]\\d\\d\\d\\d')\n",
    "\n",
    "matches = pattern.finditer(text_to_search)\n",
    "\n",
    "for match in matches:\n",
    "    print(match)"
   ]
  },
  {
   "cell_type": "markdown",
   "id": "c741f21f-f2f1-4059-afc3-fef7d2bec139",
   "metadata": {},
   "source": [
    "Another example, what if we only want to match '800' or '900' phone numbers?"
   ]
  },
  {
   "cell_type": "code",
   "execution_count": null,
   "id": "7206548f-4bbe-450d-8d75-7d9b6ab9372a",
   "metadata": {},
   "outputs": [],
   "source": [
    "# each character set only matches ONE number\n",
    "pattern = re.compile(r'[89]00[-.]\\d\\d\\d[-.]\\d\\d\\d\\d')\n",
    "\n",
    "matches = pattern.finditer(text_to_search)\n",
    "\n",
    "for match in matches:\n",
    "    print(match)"
   ]
  },
  {
   "cell_type": "markdown",
   "id": "5caef612-f16b-4705-811b-6e052abc3519",
   "metadata": {},
   "source": [
    "And now I will do this in our data.txt file (which is much bigger)"
   ]
  },
  {
   "cell_type": "markdown",
   "id": "14db0162-c1f3-4ee0-9d35-588ec1e39e57",
   "metadata": {},
   "source": [
    "<b>Step 12</b>"
   ]
  },
  {
   "cell_type": "code",
   "execution_count": null,
   "id": "8aa75d74-30b7-429a-94f5-5f39db495a14",
   "metadata": {},
   "outputs": [],
   "source": [
    "pattern = re.compile(r'[89]00[-.]\\d\\d\\d[-.]\\d\\d\\d\\d')\n",
    "\n",
    "with open('data.txt', 'r') as f:\n",
    "          contents = f.read()\n",
    "          \n",
    "          matches = pattern.finditer(contents)\n",
    "              \n",
    "          for match in matches:\n",
    "              print(match)"
   ]
  },
  {
   "cell_type": "markdown",
   "id": "fe1f168b-d0c0-45af-b9c0-5cf855718bf9",
   "metadata": {},
   "source": [
    "### Dash (-) in a Character Set\n",
    "\n",
    "The dash character in a character set is a special character itself. At the beginning or end of a character set, it looks for literally a dash (-) character. Placed between characters, it specifies a range of values"
   ]
  },
  {
   "cell_type": "markdown",
   "id": "8cc85257-88d0-444c-8643-2b6d1ece99d2",
   "metadata": {},
   "source": [
    "<b>Step 13</b>"
   ]
  },
  {
   "cell_type": "code",
   "execution_count": null,
   "id": "a3f53969-af80-4442-a043-ce6917f74c72",
   "metadata": {},
   "outputs": [],
   "source": [
    "#look for digits 1-5\n",
    "pattern = re.compile(r'[1-5]')\n",
    "\n",
    "matches = pattern.finditer(text_to_search)\n",
    "\n",
    "for match in matches:\n",
    "    print(match)"
   ]
  },
  {
   "cell_type": "code",
   "execution_count": null,
   "id": "0cd5db3a-3442-4c54-82b1-5622aa6f7941",
   "metadata": {},
   "outputs": [],
   "source": [
    "#match lower case letters a-e\n",
    "pattern = re.compile(r'[a-e]')\n",
    "\n",
    "matches = pattern.finditer(text_to_search)\n",
    "\n",
    "for match in matches:\n",
    "    print(match)"
   ]
  },
  {
   "cell_type": "code",
   "execution_count": null,
   "id": "292cddbe-a517-4d65-9319-9cd25d243fdf",
   "metadata": {},
   "outputs": [],
   "source": [
    "#match lower case OR upper case letters a - e. Just put them back to back.\n",
    "pattern = re.compile(r'[a-eA-E]')\n",
    "\n",
    "matches = pattern.finditer(text_to_search)\n",
    "\n",
    "for match in matches:\n",
    "    print(match)"
   ]
  },
  {
   "cell_type": "markdown",
   "id": "902a6bce-53aa-43d3-a266-9bce968ecf09",
   "metadata": {},
   "source": [
    "### Carrot (^) in character set\n",
    "\n",
    "The carrot character negates whatever is in the character set"
   ]
  },
  {
   "cell_type": "markdown",
   "id": "76c50adf-324a-4fc9-90bb-e2b1680e12af",
   "metadata": {},
   "source": [
    "<b>Step 14</b>"
   ]
  },
  {
   "cell_type": "code",
   "execution_count": null,
   "id": "bc7f9430-4498-44c5-b02c-0727a5c6f0fd",
   "metadata": {},
   "outputs": [],
   "source": [
    "#find any character that is NOT a-z or A-Z\n",
    "pattern = re.compile(r'[^a-zA-Z]')\n",
    "\n",
    "matches = pattern.finditer(text_to_search)\n",
    "\n",
    "for match in matches:\n",
    "    print(match)"
   ]
  },
  {
   "cell_type": "markdown",
   "id": "25930e36-09f7-4d90-a561-7c20f84f2e92",
   "metadata": {},
   "source": [
    "## Quantifiers\n",
    "\n",
    "Typing individual characters is prone to errors (ie: \\d\\d\\d). We can use <b>quantifiers</b> to match a range of characters or specific number of characters."
   ]
  },
  {
   "cell_type": "markdown",
   "id": "3b7d8974-f6f9-4e52-bdd3-727ada3c72e2",
   "metadata": {},
   "source": [
    "<b>Step 15</b>"
   ]
  },
  {
   "cell_type": "code",
   "execution_count": null,
   "id": "d56afce4-9098-48d0-99cd-5f2a4b26a702",
   "metadata": {},
   "outputs": [],
   "source": [
    "#finding a phone number just like above using quantifiers. Specify the amount of digits you are looking for.\n",
    "pattern = re.compile(r'\\d{3}.\\d{3}.\\d{4}')\n",
    "\n",
    "matches = pattern.finditer(text_to_search)\n",
    "\n",
    "for match in matches:\n",
    "    print(match)"
   ]
  },
  {
   "cell_type": "markdown",
   "id": "42531f9f-f34e-439c-bced-41f328b40609",
   "metadata": {},
   "source": [
    "### Matching Names\n",
    "\n",
    "Sometimes we don't know the exact number of characters we are looking for. Let's use names from our text_to_search as an example"
   ]
  },
  {
   "cell_type": "markdown",
   "id": "67df8232-6228-47d2-b809-a623c3865418",
   "metadata": {},
   "source": [
    "<b>Step 16</b>"
   ]
  },
  {
   "cell_type": "code",
   "execution_count": null,
   "id": "b333ebbc-aa45-46ee-8f34-2b957d64675c",
   "metadata": {},
   "outputs": [],
   "source": [
    "#we will start with the variations of Mr\n",
    "pattern = re.compile(r'Mr\\.')\n",
    "\n",
    "matches = pattern.finditer(text_to_search)\n",
    "\n",
    "for match in matches:\n",
    "    print(match)"
   ]
  },
  {
   "cell_type": "markdown",
   "id": "2a27cb42-4940-4682-ae60-4ff7df788a71",
   "metadata": {},
   "source": [
    "Some of the 'misters' have a period after MR and some don't. So we need an optional character"
   ]
  },
  {
   "cell_type": "code",
   "execution_count": null,
   "id": "e8d65fae-ace6-44a5-8202-ee5995d1191b",
   "metadata": {},
   "outputs": [],
   "source": [
    "#using the optional character '?'\n",
    "pattern = re.compile(r'Mr\\.?')\n",
    "\n",
    "matches = pattern.finditer(text_to_search)\n",
    "\n",
    "for match in matches:\n",
    "    print(match)"
   ]
  },
  {
   "cell_type": "markdown",
   "id": "e4f76d8e-7692-490c-ae11-1b2cda771829",
   "metadata": {},
   "source": [
    "<b>Step 17</b>"
   ]
  },
  {
   "cell_type": "markdown",
   "id": "a00b9d76-88d8-454a-b29e-61dcf9eb6c3e",
   "metadata": {},
   "source": [
    "Now we will match the whole name for all the Misters"
   ]
  },
  {
   "cell_type": "code",
   "execution_count": null,
   "id": "308e57b6-2714-4ce6-a04c-009e36af03ac",
   "metadata": {},
   "outputs": [],
   "source": [
    "#\\s is whitespace.  \\w is word character.  * is quantifier for 0 or more characters\n",
    "pattern = re.compile(r'Mr\\.?\\s[A-Z]\\w*')\n",
    "\n",
    "matches = pattern.finditer(text_to_search)\n",
    "\n",
    "for match in matches:\n",
    "    print(match)"
   ]
  },
  {
   "cell_type": "markdown",
   "id": "e1f3e725-317a-45e6-a98d-17c346a17033",
   "metadata": {},
   "source": [
    "Now let's include all misters, miss, and missus"
   ]
  },
  {
   "cell_type": "markdown",
   "id": "b512333d-2a79-48d9-b857-204775151c5d",
   "metadata": {},
   "source": [
    "## Groups\n",
    "\n",
    "Groups allow us to match several different patterns. Groups are created using ( )"
   ]
  },
  {
   "cell_type": "markdown",
   "id": "93aafa6e-6542-41a9-8969-13fd5cebc9cc",
   "metadata": {},
   "source": [
    "<b>Step 18</b>"
   ]
  },
  {
   "cell_type": "code",
   "execution_count": null,
   "id": "4f75e85d-f25f-4ad9-8650-f3345c92fea8",
   "metadata": {},
   "outputs": [],
   "source": [
    "# | (vertical bar or pipe) is an 'or' character\n",
    "pattern = re.compile(r'(Mr|Ms|Mrs)\\.?\\s')\n",
    "\n",
    "matches = pattern.finditer(text_to_search)\n",
    "\n",
    "for match in matches:\n",
    "    print(match)"
   ]
  },
  {
   "cell_type": "markdown",
   "id": "9f2fb091-30b1-42e9-94f8-7d6dcad49de0",
   "metadata": {},
   "source": [
    "Now put it all together to get all the names"
   ]
  },
  {
   "cell_type": "code",
   "execution_count": null,
   "id": "a440798a-7521-4b01-8187-048700e5d608",
   "metadata": {},
   "outputs": [],
   "source": [
    "pattern = re.compile(r'(Mr|Ms|Mrs)\\.?\\s[A-Z]\\w*')\n",
    "\n",
    "matches = pattern.finditer(text_to_search)\n",
    "\n",
    "for match in matches:\n",
    "    print(match)"
   ]
  },
  {
   "cell_type": "markdown",
   "id": "807caed0-7c78-458b-9f52-186470c3ff8e",
   "metadata": {},
   "source": [
    "### Matching Emails\n"
   ]
  },
  {
   "cell_type": "markdown",
   "id": "613cde07-3f2c-4fdf-9692-4368e68d8215",
   "metadata": {},
   "source": [
    "<b>Step 19</b>"
   ]
  },
  {
   "cell_type": "code",
   "execution_count": null,
   "id": "75a815b5-bc7a-4f58-a461-e06fd8f44841",
   "metadata": {},
   "outputs": [],
   "source": [
    "emails = '''\n",
    "CoreyMSchafer@gmail.com\n",
    "corey.schafer@university.edu\n",
    "corey-321-schafer@my-work.net\n",
    "'''\n",
    "\n",
    "#we will start by matching just the first address\n",
    "#before the @ it is just uppercase or lowercase letters\n",
    "#after the @ it is any number of characters and .com\n",
    "pattern = re.compile(r'[a-zA-Z]+@[a-zA-Z]+\\.com')\n",
    "\n",
    "matches = pattern.finditer(emails)\n",
    "\n",
    "for match in matches:\n",
    "    print(match)"
   ]
  },
  {
   "cell_type": "code",
   "execution_count": null,
   "id": "e0881c2c-4e51-4ffa-acd4-7c1b2a86ced7",
   "metadata": {},
   "outputs": [],
   "source": [
    "#now we can get the other emails\n",
    "#the second email includes a '.' and ends with '.edu'\n",
    "pattern = re.compile(r'[a-zA-Z.]+@[a-zA-Z]+\\.(com|edu)')\n",
    "\n",
    "matches = pattern.finditer(emails)\n",
    "\n",
    "for match in matches:\n",
    "    print(match)"
   ]
  },
  {
   "cell_type": "code",
   "execution_count": null,
   "id": "8581627d-3817-49a7-87e4-82d4393b4bba",
   "metadata": {},
   "outputs": [],
   "source": [
    "#now for the final address which has numbers and '-' and ends with .net\n",
    "\n",
    "pattern = re.compile(r'[a-zA-Z0-9.-]+@[a-zA-Z-]+\\.(com|edu|net)')\n",
    "\n",
    "matches = pattern.finditer(emails)\n",
    "\n",
    "for match in matches:\n",
    "    print(match)"
   ]
  },
  {
   "cell_type": "markdown",
   "id": "e936a049-ab45-4095-8b61-42f7b2ec5f61",
   "metadata": {},
   "source": [
    "## Reading Regular Expressions\n",
    "\n",
    "I find that it is easier to write my own regular expressions than read other people's regular expressions. There are techniques to decipher them but to be honest, it is far easier to use an AI tool to explain it like [**ChatGPT**](https://chat.openai.com/). Of ChatGPT's many uses, I find it find particularly useful for picking apart regular expressions. It is less useful writing regular expressions in my experience. To conclude the workshop, I will use ChatGPT to explain the regular expression below."
   ]
  },
  {
   "cell_type": "markdown",
   "id": "5c40cc40-d585-4400-b5e9-55b8dd2baff3",
   "metadata": {},
   "source": [
    "<b>Step 20</b>"
   ]
  },
  {
   "cell_type": "code",
   "execution_count": 45,
   "id": "24d234cb-36eb-4411-afad-1b6526387473",
   "metadata": {},
   "outputs": [
    {
     "name": "stdout",
     "output_type": "stream",
     "text": [
      "<re.Match object; span=(25, 59), match='173 Main St., Springfield RI 55924'>\n",
      "<re.Match object; span=(115, 146), match='969 High St., Atlantis VA 34075'>\n",
      "<re.Match object; span=(204, 234), match='806 1st St., Faketown AK 86847'>\n",
      "<re.Match object; span=(294, 324), match='826 Elm St., Epicburg NE 10671'>\n",
      "<re.Match object; span=(391, 424), match='212 Cedar St., Sunnydale CT 74983'>\n",
      "<re.Match object; span=(480, 516), match='519 Washington St., Olympus TN 32425'>\n",
      "<re.Match object; span=(570, 600), match='625 Oak St., Dawnstar IL 61914'>\n",
      "<re.Match object; span=(660, 694), match='890 Main St., Pythonville LA 29947'>\n",
      "<re.Match object; span=(842, 870), match='249 Elm St., Quahog OR 90938'>\n",
      "<re.Match object; span=(928, 961), match='619 Park St., Winterfell VA 99000'>\n",
      "<re.Match object; span=(1016, 1048), match='220 Cedar St., Lakeview NY 87282'>\n",
      "<re.Match object; span=(1104, 1136), match='391 High St., Smalltown WY 28362'>\n",
      "<re.Match object; span=(1282, 1313), match='433 Elm St., Westworld TX 61967'>\n",
      "<re.Match object; span=(1368, 1398), match='838 Main St., Balmora MT 56526'>\n",
      "<re.Match object; span=(1452, 1482), match='732 High St., Valyria KY 97152'>\n",
      "<re.Match object; span=(1627, 1656), match='191 Main St., Mordor IL 72160'>\n",
      "<re.Match object; span=(1710, 1749), match='607 Washington St., Blackwater NH 97183'>\n",
      "<re.Match object; span=(1803, 1832), match='478 Oak St., Bedrock IA 58176'>\n",
      "<re.Match object; span=(1887, 1915), match='906 Elm St., Mordor TX 89212'>\n",
      "<re.Match object; span=(1975, 2007), match='949 Main St., Smalltown SC 96962'>\n",
      "<re.Match object; span=(2064, 2097), match='835 Pearl St., Smalltown ND 77737'>\n",
      "<re.Match object; span=(2148, 2178), match='451 Lake St., Bedrock GA 34615'>\n",
      "<re.Match object; span=(2229, 2259), match='419 Lake St., Balmora OR 30826'>\n",
      "<re.Match object; span=(2313, 2343), match='443 Maple St., Quahog MS 29348'>\n",
      "<re.Match object; span=(2400, 2430), match='756 Hill St., Valyria KY 94854'>\n",
      "<re.Match object; span=(2488, 2518), match='216 High St., Olympus NV 21888'>\n",
      "<re.Match object; span=(2575, 2606), match='806 Lake St., Lakeview MD 59348'>\n",
      "<re.Match object; span=(2660, 2689), match='354 Hill St., Mordor FL 74122'>\n",
      "<re.Match object; span=(2747, 2781), match='805 Maple St., Winterfell NV 99431'>\n",
      "<re.Match object; span=(2839, 2872), match='418 Park St., Metropolis ID 16576'>\n",
      "<re.Match object; span=(3025, 3058), match='122 High St., Metropolis ME 29540'>\n",
      "<re.Match object; span=(3205, 3239), match='332 Main St., Pythonville OH 78172'>\n",
      "<re.Match object; span=(3297, 3330), match='858 Hill St., Blackwater NC 79714'>\n",
      "<re.Match object; span=(3385, 3415), match='441 Elm St., Atlantis MS 87195'>\n",
      "<re.Match object; span=(3465, 3495), match='404 Oak St., Atlantis ND 85386'>\n",
      "<re.Match object; span=(3727, 3755), match='151 Lake St., Eerie SD 17880'>\n",
      "<re.Match object; span=(3815, 3844), match='504 Lake St., Gotham PA 46692'>\n",
      "<re.Match object; span=(4069, 4099), match='117 High St., Bedrock NE 11899'>\n",
      "<re.Match object; span=(4153, 4184), match='650 Oak St., Smalltown TN 43281'>\n",
      "<re.Match object; span=(4238, 4268), match='377 Pine St., Valyria NC 78036'>\n",
      "<re.Match object; span=(4330, 4361), match='416 Pearl St., Valyria AK 62260'>\n",
      "<re.Match object; span=(4511, 4543), match='288 Hill St., Smalltown AZ 18586'>\n",
      "<re.Match object; span=(4601, 4635), match='286 High St., Springfield IA 16272'>\n",
      "<re.Match object; span=(4689, 4718), match='278 Main St., Gotham KY 89569'>\n",
      "<re.Match object; span=(4872, 4903), match='775 High St., Faketown PA 89260'>\n",
      "<re.Match object; span=(4958, 4991), match='885 Main St., Blackwater OH 61275'>\n",
      "<re.Match object; span=(5047, 5078), match='528 Hill St., Atlantis NH 88289'>\n",
      "<re.Match object; span=(5136, 5168), match='117 Cedar St., Thundera NM 75205'>\n",
      "<re.Match object; span=(5223, 5251), match='115 Oak St., Gotham UT 36433'>\n",
      "<re.Match object; span=(5305, 5339), match='743 Lake St., Springfield MS 25473'>\n",
      "<re.Match object; span=(5395, 5428), match='381 Hill St., Blackwater CT 30958'>\n",
      "<re.Match object; span=(5488, 5520), match='125 Main St., Smalltown MT 62155'>\n",
      "<re.Match object; span=(5579, 5608), match='292 Hill St., Gotham WV 57680'>\n",
      "<re.Match object; span=(5669, 5699), match='514 Park St., Balmora NV 55462'>\n",
      "<re.Match object; span=(5758, 5789), match='776 Hill St., Dawnstar MA 51312'>\n",
      "<re.Match object; span=(5843, 5874), match='421 Elm St., Smalltown NV 72025'>\n",
      "<re.Match object; span=(5934, 5966), match='937 Cedar St., Thundera WA 78862'>\n",
      "<re.Match object; span=(6024, 6055), match='417 Pine St., Lakeview MD 13147'>\n",
      "<re.Match object; span=(6112, 6146), match='478 Park St., Springfield NM 92369'>\n",
      "<re.Match object; span=(6286, 6319), match='557 Pearl St., Westworld KS 23225'>\n",
      "<re.Match object; span=(6373, 6403), match='855 Hill St., Olympus HI 81427'>\n",
      "<re.Match object; span=(6458, 6491), match='980 Maple St., Smalltown MO 96421'>\n",
      "<re.Match object; span=(6543, 6576), match='676 Hill St., Blackwater AR 96698'>\n",
      "<re.Match object; span=(6632, 6662), match='588 Pine St., Olympus FL 98412'>\n",
      "<re.Match object; span=(6724, 6755), match='351 Elm St., Sunnydale GA 26245'>\n",
      "<re.Match object; span=(6816, 6846), match='948 Cedar St., Quahog DE 56449'>\n",
      "<re.Match object; span=(6902, 6931), match='381 Hill St., Quahog AL 97503'>\n",
      "<re.Match object; span=(6984, 7017), match='496 Cedar St., Sunnydale RI 49113'>\n",
      "<re.Match object; span=(7074, 7106), match='736 Cedar St., Lakeview KY 47472'>\n",
      "<re.Match object; span=(7165, 7194), match='678 Lake St., Mordor MN 11845'>\n",
      "<re.Match object; span=(7256, 7288), match='289 Park St., Sunnydale WA 74526'>\n",
      "<re.Match object; span=(7349, 7385), match='245 Washington St., Bedrock IL 26941'>\n",
      "<re.Match object; span=(7440, 7471), match='573 Elm St., Sunnydale IL 47182'>\n",
      "<re.Match object; span=(7528, 7561), match='851 Lake St., Metropolis PA 22772'>\n",
      "<re.Match object; span=(7620, 7650), match='489 Oak St., Atlantis HI 73725'>\n",
      "<re.Match object; span=(7706, 7739), match='371 Pearl St., Smalltown SC 47466'>\n",
      "<re.Match object; span=(7792, 7822), match='504 Oak St., Faketown PA 73860'>\n",
      "<re.Match object; span=(7877, 7907), match='667 High St., Balmora IN 82473'>\n",
      "<re.Match object; span=(7966, 7998), match='266 Pine St., Westworld DC 58720'>\n",
      "<re.Match object; span=(8142, 8174), match='491 Elm St., Metropolis PA 31836'>\n",
      "<re.Match object; span=(8322, 8352), match='956 Park St., Valyria CT 81541'>\n",
      "<re.Match object; span=(8492, 8522), match='789 Maple St., Mordor IN 22215'>\n",
      "<re.Match object; span=(8577, 8607), match='439 Hill St., Olympus NV 39308'>\n",
      "<re.Match object; span=(8754, 8793), match='207 Washington St., Blackwater MA 24886'>\n"
     ]
    }
   ],
   "source": [
    "\n",
    "# what do you think this regular expression matches from the data.txt file?\n",
    "pattern = re.compile(r'\\d{3} \\w+ \\w{2}., \\w+ \\w{2} \\d+')\n",
    "\n",
    "with open('data.txt', 'r') as f:\n",
    "          contents = f.read()\n",
    "          \n",
    "          matches = pattern.finditer(contents)\n",
    "              \n",
    "          for match in matches:\n",
    "              print(match)\n"
   ]
  },
  {
   "cell_type": "code",
   "execution_count": null,
   "id": "0d5cd495-e061-496f-ad9c-4d655a73f3a1",
   "metadata": {},
   "outputs": [],
   "source": []
  }
 ],
 "metadata": {
  "kernelspec": {
   "display_name": "Python 3 (ipykernel)",
   "language": "python",
   "name": "python3"
  },
  "language_info": {
   "codemirror_mode": {
    "name": "ipython",
    "version": 3
   },
   "file_extension": ".py",
   "mimetype": "text/x-python",
   "name": "python",
   "nbconvert_exporter": "python",
   "pygments_lexer": "ipython3",
   "version": "3.9.7"
  }
 },
 "nbformat": 4,
 "nbformat_minor": 5
}
